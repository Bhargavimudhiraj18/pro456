{
 "cells": [
  {
   "cell_type": "markdown",
   "id": "2c8bf879",
   "metadata": {},
   "source": [
    "### Project Summary\n",
    "\n",
    "Skin cancer, the most common form of cancer, can be classified into benign (non-cancerous) and malignant (cancerous) lesions. In this project, we trained a ResNet-50 model using a dataset of skin lesion images to accurately differentiate between benign and malignant classes. The model achieved a best validation accuracy of 92% in 5 epochs, demonstrating the potential of deep learning in improving early detection and diagnosis of skin cancer.\n",
    "\n",
    "### Training a ResNet-50 Model for Image Classification\n",
    "\n",
    "In this project, we aimed to train a ResNet-50 model to classify skin cancer images into two categories: benign and malignant. We utilized a small subset of images (300 for training and 200 for validation) to test our training pipeline and ensure the model's functionality. Below is a detailed summary of the process and results.\n",
    "\n",
    "#### Dataset\n",
    "##### Dataset link: https://www.kaggle.com/datasets/fanconic/skin-cancer-malignant-vs-benign?resource=download\n",
    "\n",
    "- **Training Set**: 300 images\n",
    "- **Validation Set**: 200 images\n",
    "- **Classes**: Benign, Malignant\n",
    "- **Image Format**: JPG\n",
    "\n",
    "#### Data Augmentation and Transformation\n",
    "\n",
    "To improve the model's robustness and generalization, we applied the following transformations to the training data:\n",
    "\n",
    "- Random resized cropping\n",
    "- Random horizontal flipping\n",
    "- Normalization to match the pre-trained ResNet-50 input requirements\n",
    "\n",
    "The validation data was resized and center-cropped to maintain consistency and normalized similarly.\n",
    "\n",
    "#### Model Architecture\n",
    "\n",
    "We used a pre-trained ResNet-50 model from the torchvision library. The final fully connected layer was modified to output two classes to match our classification problem.\n",
    "\n",
    "#### Training Parameters\n",
    "\n",
    "- **Loss Function**: Cross-Entropy Loss\n",
    "- **Optimizer**: Stochastic Gradient Descent (SGD) with momentum\n",
    "- **Learning Rate**: 0.001\n",
    "- **Learning Rate Scheduler**: StepLR (decays the learning rate by a factor of 0.1 every 7 epochs)\n",
    "- **Batch Size**: 16\n",
    "- **Epochs**: 5\n",
    "\n",
    "#### Training Process\n",
    "\n",
    "The training process was executed over 5 epochs. Each epoch consisted of a training phase and a validation phase.\n",
    "\n",
    "##### Epoch Breakdown\n",
    "\n",
    "1. **Epoch 0**\n",
    "    - **Training**:\n",
    "        - Initial batches showed fluctuating loss values, settling at a loss of 0.4329 with an accuracy of 81.67%.\n",
    "    - **Validation**:\n",
    "        - The model achieved a validation loss of 0.2974 and an accuracy of 89.00%.\n",
    "  \n",
    "2. **Epoch 1**\n",
    "    - **Training**:\n",
    "        - Improved training performance with a final loss of 0.3186 and an accuracy of 84.00%.\n",
    "    - **Validation**:\n",
    "        - Validation accuracy dipped to 83.00% with a loss of 0.3727.\n",
    "\n",
    "3. **Epoch 2**\n",
    "    - **Training**:\n",
    "        - Maintained consistent training with a loss of 0.3399 and an accuracy of 85.00%.\n",
    "    - **Validation**:\n",
    "        - Validation performance improved to 88.00% accuracy with a loss of 0.2864.\n",
    "\n",
    "4. **Epoch 3**\n",
    "    - **Training**:\n",
    "        - Significant improvement in training accuracy to 89.33% with a reduced loss of 0.2558.\n",
    "    - **Validation**:\n",
    "        - Validation accuracy reached 92.00%, the highest among all epochs, with a loss of 0.2774.\n",
    "\n",
    "5. **Epoch 4**\n",
    "    - **Training**:\n",
    "        - Final epoch achieved the best training accuracy of 90.00% with a loss of 0.2463.\n",
    "    - **Validation**:\n",
    "        - Validation accuracy remained high at 89.00% with a loss of 0.3093.\n",
    "\n",
    "##### Final Results\n",
    "\n",
    "- **Training Duration**: Approximately 10 minutes and 54 seconds\n",
    "- **Best Validation Accuracy**: 92.00%\n",
    "\n",
    "#### Conclusion\n",
    "\n",
    "The ResNet-50 model demonstrated strong performance on a small subset of the dataset, achieving a best validation accuracy of 92.00%. The model's accuracy improved steadily with each epoch, showcasing the effectiveness of data augmentation and transfer learning with a pre-trained model.\n",
    "\n",
    "#### Future Work\n",
    "\n",
    "- **Dataset Expansion**: Training with a larger dataset to enhance model performance and generalization.\n",
    "- **Hyperparameter Tuning**: Experimenting with different learning rates, optimizers, and batch sizes.\n",
    "- **Advanced Augmentation**: Implementing more sophisticated data augmentation techniques.\n",
    "\n",
    "#### Visualizing Training Progress\n",
    "\n",
    "![Training and Validation Accuracy](training_validation_accuracy.png)\n",
    "\n",
    "---\n",
    "\n",
    "This summary provides an overview of the project, detailing the dataset, transformations, model architecture, training parameters, process, results, and future work."
   ]
  },
  {
   "cell_type": "markdown",
   "id": "1edeb86d",
   "metadata": {},
   "source": [
    "## Step 1: Setup the Environment"
   ]
  },
  {
   "cell_type": "code",
   "execution_count": 1,
   "id": "b5a943f4",
   "metadata": {},
   "outputs": [
    {
     "name": "stderr",
     "output_type": "stream",
     "text": [
      "/Users/noumanahmad/anaconda3/lib/python3.10/site-packages/tqdm/auto.py:22: TqdmWarning: IProgress not found. Please update jupyter and ipywidgets. See https://ipywidgets.readthedocs.io/en/stable/user_install.html\n",
      "  from .autonotebook import tqdm as notebook_tqdm\n"
     ]
    }
   ],
   "source": [
    "import torch\n",
    "import torch.nn as nn\n",
    "import torch.optim as optim\n",
    "from torch.optim import lr_scheduler\n",
    "from torchvision import datasets, models, transforms\n",
    "import matplotlib.pyplot as plt\n",
    "import time\n",
    "import os\n",
    "import copy"
   ]
  },
  {
   "cell_type": "markdown",
   "id": "76506fd0",
   "metadata": {},
   "source": [
    "## Step 2: Prepare the Data"
   ]
  },
  {
   "cell_type": "code",
   "execution_count": 2,
   "id": "5e61fc1c",
   "metadata": {},
   "outputs": [],
   "source": [
    "# Define the data directories\n",
    "data_dir = {\n",
    "    'train': 'dataset/train',\n",
    "    'val': 'dataset/test'\n",
    "}\n",
    "\n",
    "# Define data transformations for training and validation\n",
    "data_transforms = {\n",
    "    'train': transforms.Compose([\n",
    "        transforms.RandomResizedCrop(224),\n",
    "        transforms.RandomHorizontalFlip(),\n",
    "        transforms.ToTensor(),\n",
    "        transforms.Normalize([0.485, 0.456, 0.406], [0.229, 0.224, 0.225])\n",
    "    ]),\n",
    "    'val': transforms.Compose([\n",
    "        transforms.Resize(256),\n",
    "        transforms.CenterCrop(224),\n",
    "        transforms.ToTensor(),\n",
    "        transforms.Normalize([0.485, 0.456, 0.406], [0.229, 0.224, 0.225])\n",
    "    ]),\n",
    "}\n",
    "\n",
    "# Load the datasets\n",
    "image_datasets = {x: datasets.ImageFolder(os.path.join(data_dir[x]), data_transforms[x])\n",
    "                  for x in ['train', 'val']}\n",
    "\n",
    "# Define the dataloaders\n",
    "dataloaders = {x: torch.utils.data.DataLoader(image_datasets[x], batch_size=16, shuffle=True, num_workers=4)\n",
    "               for x in ['train', 'val']}\n",
    "\n",
    "# Get dataset sizes and class names\n",
    "dataset_sizes = {x: len(image_datasets[x]) for x in ['train', 'val']}\n",
    "class_names = image_datasets['train'].classes\n",
    "\n",
    "# Check if CUDA is available\n",
    "device = torch.device(\"cuda:0\" if torch.cuda.is_available() else \"cpu\")\n"
   ]
  },
  {
   "cell_type": "markdown",
   "id": "18b25a65",
   "metadata": {},
   "source": [
    "## loading 300 training and 100 validation sample only"
   ]
  },
  {
   "cell_type": "code",
   "execution_count": 3,
   "id": "11d33d97",
   "metadata": {},
   "outputs": [
    {
     "name": "stdout",
     "output_type": "stream",
     "text": [
      "Training dataset size: 300\n",
      "Validation dataset size: 100\n"
     ]
    }
   ],
   "source": [
    "import numpy as np\n",
    "from torch.utils.data.sampler import SubsetRandomSampler\n",
    "\n",
    "# Number of samples to load\n",
    "num_train_samples = 300\n",
    "num_val_samples = 100\n",
    "\n",
    "# Create indices for the dataset and split into training and validation sets\n",
    "train_indices = np.random.choice(len(image_datasets['train']), num_train_samples, replace=False)\n",
    "val_indices = np.random.choice(len(image_datasets['val']), num_val_samples, replace=False)\n",
    "\n",
    "train_sampler = SubsetRandomSampler(train_indices)\n",
    "val_sampler = SubsetRandomSampler(val_indices)\n",
    "\n",
    "# Define the dataloaders with the samplers\n",
    "dataloaders = {\n",
    "    'train': torch.utils.data.DataLoader(image_datasets['train'], batch_size=16, sampler=train_sampler, num_workers=4),\n",
    "    'val': torch.utils.data.DataLoader(image_datasets['val'], batch_size=16, sampler=val_sampler, num_workers=4)\n",
    "}\n",
    "\n",
    "# Verify the sizes\n",
    "dataset_sizes = {x: len(dataloaders[x].sampler) for x in ['train', 'val']}\n",
    "print(f\"Training dataset size: {dataset_sizes['train']}\")\n",
    "print(f\"Validation dataset size: {dataset_sizes['val']}\")\n"
   ]
  },
  {
   "cell_type": "markdown",
   "id": "6471f8cd",
   "metadata": {},
   "source": [
    "## Step 3: Define the Model"
   ]
  },
  {
   "cell_type": "code",
   "execution_count": 4,
   "id": "04f53b12",
   "metadata": {},
   "outputs": [
    {
     "name": "stderr",
     "output_type": "stream",
     "text": [
      "/Users/noumanahmad/anaconda3/lib/python3.10/site-packages/torchvision/models/_utils.py:208: UserWarning: The parameter 'pretrained' is deprecated since 0.13 and may be removed in the future, please use 'weights' instead.\n",
      "  warnings.warn(\n",
      "/Users/noumanahmad/anaconda3/lib/python3.10/site-packages/torchvision/models/_utils.py:223: UserWarning: Arguments other than a weight enum or `None` for 'weights' are deprecated since 0.13 and may be removed in the future. The current behavior is equivalent to passing `weights=ResNet50_Weights.IMAGENET1K_V1`. You can also use `weights=ResNet50_Weights.DEFAULT` to get the most up-to-date weights.\n",
      "  warnings.warn(msg)\n"
     ]
    }
   ],
   "source": [
    "# Load the pre-trained ResNet-50 model\n",
    "model_ft = models.resnet50(pretrained=True)\n",
    "\n",
    "# Modify the final fully connected layer to match the number of classes\n",
    "num_ftrs = model_ft.fc.in_features\n",
    "model_ft.fc = nn.Linear(num_ftrs, len(class_names))\n",
    "\n",
    "model_ft = model_ft.to(device)\n",
    "\n",
    "# Define the loss function and optimizer\n",
    "criterion = nn.CrossEntropyLoss()\n",
    "optimizer_ft = optim.SGD(model_ft.parameters(), lr=0.001, momentum=0.9)\n",
    "\n",
    "# Learning rate scheduler\n",
    "exp_lr_scheduler = lr_scheduler.StepLR(optimizer_ft, step_size=7, gamma=0.1)"
   ]
  },
  {
   "cell_type": "markdown",
   "id": "28612b53",
   "metadata": {},
   "source": [
    "## Step 4: Train the Model"
   ]
  },
  {
   "cell_type": "code",
   "execution_count": 6,
   "id": "7f153f7e",
   "metadata": {},
   "outputs": [],
   "source": [
    "def train_model(model, criterion, optimizer, scheduler, num_epochs=25):\n",
    "    since = time.time()\n",
    "\n",
    "    best_model_wts = copy.deepcopy(model.state_dict())\n",
    "    best_acc = 0.0\n",
    "\n",
    "    train_acc_history = []\n",
    "    val_acc_history = []\n",
    "\n",
    "    for epoch in range(num_epochs):\n",
    "        print(f'Epoch {epoch}/{num_epochs - 1}')\n",
    "        print('-' * 10)\n",
    "\n",
    "        # Each epoch has a training and validation phase\n",
    "        for phase in ['train', 'val']:\n",
    "            if phase == 'train':\n",
    "                model.train()  # Set model to training mode\n",
    "            else:\n",
    "                model.eval()   # Set model to evaluate mode\n",
    "\n",
    "            running_loss = 0.0\n",
    "            running_corrects = 0\n",
    "\n",
    "            # Iterate over data\n",
    "            for i, (inputs, labels) in enumerate(dataloaders[phase]):\n",
    "                inputs = inputs.to(device)\n",
    "                labels = labels.to(device)\n",
    "\n",
    "                # Zero the parameter gradients\n",
    "                optimizer.zero_grad()\n",
    "\n",
    "                # Forward pass\n",
    "                with torch.set_grad_enabled(phase == 'train'):\n",
    "                    outputs = model(inputs)\n",
    "                    _, preds = torch.max(outputs, 1)\n",
    "                    loss = criterion(outputs, labels)\n",
    "\n",
    "                    # Backward pass + optimize only if in training phase\n",
    "                    if phase == 'train':\n",
    "                        loss.backward()\n",
    "                        optimizer.step()\n",
    "\n",
    "                # Statistics\n",
    "                running_loss += loss.item() * inputs.size(0)\n",
    "                running_corrects += torch.sum(preds == labels.data)\n",
    "\n",
    "                # Print progress every 10 batches\n",
    "                if i % 10 == 0:\n",
    "                    print(f'Batch {i}/{len(dataloaders[phase])}, Loss: {loss.item():.4f}')\n",
    "\n",
    "            if phase == 'train':\n",
    "                scheduler.step()\n",
    "\n",
    "            epoch_loss = running_loss / dataset_sizes[phase]\n",
    "            epoch_acc = running_corrects.double() / dataset_sizes[phase]\n",
    "\n",
    "            print(f'{phase} Loss: {epoch_loss:.4f} Acc: {epoch_acc:.4f}')\n",
    "\n",
    "            # Deep copy the model\n",
    "            if phase == 'val' and epoch_acc > best_acc:\n",
    "                best_acc = epoch_acc\n",
    "                best_model_wts = copy.deepcopy(model.state_dict())\n",
    "\n",
    "            if phase == 'train':\n",
    "                train_acc_history.append(epoch_acc.item())\n",
    "            if phase == 'val':\n",
    "                val_acc_history.append(epoch_acc.item())\n",
    "\n",
    "        print()\n",
    "\n",
    "    time_elapsed = time.time() - since\n",
    "    print(f'Training complete in {time_elapsed // 60:.0f}m {time_elapsed % 60:.0f}s')\n",
    "    print(f'Best val Acc: {best_acc:4f}')\n",
    "\n",
    "    # Load best model weights\n",
    "    model.load_state_dict(best_model_wts)\n",
    "    return model, train_acc_history, val_acc_history\n"
   ]
  },
  {
   "cell_type": "markdown",
   "id": "86074774",
   "metadata": {},
   "source": [
    "## Step 5: Train the Model and Save It"
   ]
  },
  {
   "cell_type": "code",
   "execution_count": 17,
   "id": "fc3c9179",
   "metadata": {},
   "outputs": [
    {
     "name": "stdout",
     "output_type": "stream",
     "text": [
      "Epoch 0/4\n",
      "----------\n",
      "Batch 0/19, Loss: 0.5828\n",
      "Batch 10/19, Loss: 0.2784\n",
      "train Loss: 0.4329 Acc: 0.8167\n",
      "Batch 0/7, Loss: 0.2362\n",
      "val Loss: 0.2974 Acc: 0.8900\n",
      "\n",
      "Epoch 1/4\n",
      "----------\n",
      "Batch 0/19, Loss: 0.2713\n",
      "Batch 10/19, Loss: 0.3128\n",
      "train Loss: 0.3186 Acc: 0.8400\n",
      "Batch 0/7, Loss: 0.4862\n",
      "val Loss: 0.3727 Acc: 0.8300\n",
      "\n",
      "Epoch 2/4\n",
      "----------\n",
      "Batch 0/19, Loss: 0.3973\n",
      "Batch 10/19, Loss: 0.2552\n",
      "train Loss: 0.3399 Acc: 0.8500\n",
      "Batch 0/7, Loss: 0.3136\n",
      "val Loss: 0.2864 Acc: 0.8800\n",
      "\n",
      "Epoch 3/4\n",
      "----------\n",
      "Batch 0/19, Loss: 0.2118\n",
      "Batch 10/19, Loss: 0.0877\n",
      "train Loss: 0.2558 Acc: 0.8933\n",
      "Batch 0/7, Loss: 0.1946\n",
      "val Loss: 0.2774 Acc: 0.9200\n",
      "\n",
      "Epoch 4/4\n",
      "----------\n",
      "Batch 0/19, Loss: 0.3397\n",
      "Batch 10/19, Loss: 0.2182\n",
      "train Loss: 0.2463 Acc: 0.9000\n",
      "Batch 0/7, Loss: 0.4450\n",
      "val Loss: 0.3093 Acc: 0.8900\n",
      "\n",
      "Training complete in 10m 54s\n",
      "Best val Acc: 0.920000\n"
     ]
    }
   ],
   "source": [
    "model_ft, train_acc, val_acc = train_model(model_ft, criterion, optimizer_ft, exp_lr_scheduler, num_epochs=5)\n",
    "\n",
    "# Save the final trained model\n",
    "torch.save(model_ft.state_dict(), 'resnet50_model.pth.tar')"
   ]
  },
  {
   "cell_type": "markdown",
   "id": "6f4a10ee",
   "metadata": {},
   "source": [
    "## Step 6: Plot Training and Validation Accuracy"
   ]
  },
  {
   "cell_type": "code",
   "execution_count": 18,
   "id": "53c20f83",
   "metadata": {},
   "outputs": [
    {
     "data": {
      "image/png": "[encoded data removed]",
      "text/plain": [
       "<Figure size 1000x500 with 1 Axes>"
      ]
     },
     "metadata": {},
     "output_type": "display_data"
    }
   ],
   "source": [
    "plt.figure(figsize=(10, 5))\n",
    "plt.title(\"Training and Validation Accuracy\")\n",
    "plt.plot(train_acc, label=\"train\")\n",
    "plt.plot(val_acc, label=\"val\")\n",
    "plt.xlabel(\"Epochs\")\n",
    "plt.ylabel(\"Accuracy\")\n",
    "plt.legend()\n",
    "plt.show()\n"
   ]
  },
  {
   "cell_type": "code",
   "execution_count": null,
   "id": "f208d62e",
   "metadata": {},
   "outputs": [],
   "source": []
  }
 ],
 "metadata": {
  "kernelspec": {
   "display_name": "Python 3 (ipykernel)",
   "language": "python",
   "name": "python3"
  },
  "language_info": {
   "codemirror_mode": {
    "name": "ipython",
    "version": 3
   },
   "file_extension": ".py",
   "mimetype": "text/x-python",
   "name": "python",
   "nbconvert_exporter": "python",
   "pygments_lexer": "ipython3",
   "version": "3.10.9"
  }
 },
 "nbformat": 4,
 "nbformat_minor": 5
}
